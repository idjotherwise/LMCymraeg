{
 "cells": [
  {
   "cell_type": "code",
   "execution_count": 1,
   "metadata": {
    "ExecuteTime": {
     "end_time": "2021-01-28T12:54:37.862036Z",
     "start_time": "2021-01-28T12:54:05.499879Z"
    }
   },
   "outputs": [],
   "source": [
    "from fastai import *\n",
    "from fastai.text.all import *"
   ]
  },
  {
   "cell_type": "code",
   "execution_count": 47,
   "metadata": {
    "ExecuteTime": {
     "end_time": "2021-01-28T14:22:19.049019Z",
     "start_time": "2021-01-28T14:22:19.046250Z"
    }
   },
   "outputs": [],
   "source": [
    "path = Path()/'../data/CorCenCC_corpus/complete_corpus'"
   ]
  },
  {
   "cell_type": "code",
   "execution_count": 48,
   "metadata": {
    "ExecuteTime": {
     "end_time": "2021-01-28T14:22:19.803614Z",
     "start_time": "2021-01-28T14:22:19.799182Z"
    }
   },
   "outputs": [
    {
     "data": {
      "text/plain": [
       "Path('../data/CorCenCC_corpus/complete_corpus')"
      ]
     },
     "execution_count": 48,
     "metadata": {},
     "output_type": "execute_result"
    }
   ],
   "source": [
    "path"
   ]
  },
  {
   "cell_type": "code",
   "execution_count": 50,
   "metadata": {
    "ExecuteTime": {
     "end_time": "2021-01-28T14:22:27.291691Z",
     "start_time": "2021-01-28T14:22:27.184249Z"
    }
   },
   "outputs": [
    {
     "data": {
      "text/plain": [
       "(#11432) [Path('../data/CorCenCC_corpus/complete_corpus/lla_jn_150225_002.txt'),Path('../data/CorCenCC_corpus/complete_corpus/ele_la_190102_794.txt'),Path('../data/CorCenCC_corpus/complete_corpus/ele_la_190101_657.txt'),Path('../data/CorCenCC_corpus/complete_corpus/ele_la_190611_182.txt'),Path('../data/CorCenCC_corpus/complete_corpus/ele_la_181111_127.txt'),Path('../data/CorCenCC_corpus/complete_corpus/lla_la_190524_012.txt'),Path('../data/CorCenCC_corpus/complete_corpus/ele_la_190606_317.txt'),Path('../data/CorCenCC_corpus/complete_corpus/ele_la_190606_471.txt'),Path('../data/CorCenCC_corpus/complete_corpus/ele_la_190601_196.txt'),Path('../data/CorCenCC_corpus/complete_corpus/ele_lw_170227_002.txt')...]"
      ]
     },
     "execution_count": 50,
     "metadata": {},
     "output_type": "execute_result"
    }
   ],
   "source": [
    "(path).ls()"
   ]
  },
  {
   "cell_type": "code",
   "execution_count": 51,
   "metadata": {
    "ExecuteTime": {
     "end_time": "2021-01-28T14:22:39.593148Z",
     "start_time": "2021-01-28T14:22:39.365391Z"
    }
   },
   "outputs": [],
   "source": [
    "files = get_text_files(path)"
   ]
  },
  {
   "cell_type": "code",
   "execution_count": 52,
   "metadata": {
    "ExecuteTime": {
     "end_time": "2021-01-28T14:22:41.674865Z",
     "start_time": "2021-01-28T14:22:41.670164Z"
    }
   },
   "outputs": [
    {
     "data": {
      "text/plain": [
       "(#11432) [Path('../data/CorCenCC_corpus/complete_corpus/lla_jn_150225_002.txt'),Path('../data/CorCenCC_corpus/complete_corpus/ele_la_190102_794.txt'),Path('../data/CorCenCC_corpus/complete_corpus/ele_la_190101_657.txt'),Path('../data/CorCenCC_corpus/complete_corpus/ele_la_190611_182.txt'),Path('../data/CorCenCC_corpus/complete_corpus/ele_la_181111_127.txt'),Path('../data/CorCenCC_corpus/complete_corpus/lla_la_190524_012.txt'),Path('../data/CorCenCC_corpus/complete_corpus/ele_la_190606_317.txt'),Path('../data/CorCenCC_corpus/complete_corpus/ele_la_190606_471.txt'),Path('../data/CorCenCC_corpus/complete_corpus/ele_la_190601_196.txt'),Path('../data/CorCenCC_corpus/complete_corpus/ele_lw_170227_002.txt')...]"
      ]
     },
     "execution_count": 52,
     "metadata": {},
     "output_type": "execute_result"
    }
   ],
   "source": [
    "files"
   ]
  },
  {
   "cell_type": "code",
   "execution_count": 76,
   "metadata": {
    "ExecuteTime": {
     "end_time": "2021-01-28T14:58:44.253807Z",
     "start_time": "2021-01-28T14:58:44.243045Z"
    }
   },
   "outputs": [
    {
     "data": {
      "text/plain": [
       "'Hefo_Arsym bus_Gwest a_Cyscyd y_YFB ddau_Rhifol flight_Gwest maeon_unk 17_Gwdig awr_Ebu ._Atdt ._Atdt '"
      ]
     },
     "execution_count": 76,
     "metadata": {},
     "output_type": "execute_result"
    }
   ],
   "source": [
    "txt = files[1].open().read(); txt"
   ]
  },
  {
   "cell_type": "code",
   "execution_count": 57,
   "metadata": {
    "ExecuteTime": {
     "end_time": "2021-01-28T14:25:08.676606Z",
     "start_time": "2021-01-28T14:25:08.361098Z"
    }
   },
   "outputs": [],
   "source": [
    "spacy = WordTokenizer()\n",
    "toks = first(spacy([txt]))"
   ]
  },
  {
   "cell_type": "code",
   "execution_count": 59,
   "metadata": {
    "ExecuteTime": {
     "end_time": "2021-01-28T14:25:44.380582Z",
     "start_time": "2021-01-28T14:25:44.377104Z"
    }
   },
   "outputs": [
    {
     "name": "stdout",
     "output_type": "stream",
     "text": [
      "(#11) ['Hefo_Arsym','bus_Gwest','a_Cyscyd','y_YFB','ddau_Rhifol','flight_Gwest','maeon_unk','17_Gwdig','awr_Ebu','._Atdt','._Atdt']\n"
     ]
    }
   ],
   "source": [
    "print(coll_repr(toks, 30))"
   ]
  },
  {
   "cell_type": "code",
   "execution_count": 61,
   "metadata": {
    "ExecuteTime": {
     "end_time": "2021-01-28T14:26:59.157622Z",
     "start_time": "2021-01-28T14:26:59.152526Z"
    }
   },
   "outputs": [
    {
     "name": "stdout",
     "output_type": "stream",
     "text": [
      "(#12) ['xxbos','hefo_arsym','bus_gwest','a_cyscyd','y_yfb','ddau_rhifol','flight_gwest','maeon_unk','17_gwdig','awr_ebu','._atdt','._atdt']\n"
     ]
    }
   ],
   "source": [
    "tkn = Tokenizer(spacy)\n",
    "print(coll_repr(tkn(txt), 31))"
   ]
  },
  {
   "cell_type": "code",
   "execution_count": 92,
   "metadata": {
    "ExecuteTime": {
     "end_time": "2021-01-28T15:30:49.010032Z",
     "start_time": "2021-01-28T15:30:48.980132Z"
    }
   },
   "outputs": [],
   "source": [
    "get_text_files??"
   ]
  },
  {
   "cell_type": "code",
   "execution_count": 97,
   "metadata": {
    "ExecuteTime": {
     "end_time": "2021-01-28T16:00:12.472967Z",
     "start_time": "2021-01-28T16:00:12.461033Z"
    }
   },
   "outputs": [],
   "source": [
    "pd.DataFrame?"
   ]
  },
  {
   "cell_type": "code",
   "execution_count": 122,
   "metadata": {
    "ExecuteTime": {
     "end_time": "2021-01-28T16:26:10.354171Z",
     "start_time": "2021-01-28T16:26:04.845594Z"
    }
   },
   "outputs": [
    {
     "data": {
      "text/html": [
       "<div>\n",
       "<style scoped>\n",
       "    .dataframe tbody tr th:only-of-type {\n",
       "        vertical-align: middle;\n",
       "    }\n",
       "\n",
       "    .dataframe tbody tr th {\n",
       "        vertical-align: top;\n",
       "    }\n",
       "\n",
       "    .dataframe thead th {\n",
       "        text-align: right;\n",
       "    }\n",
       "</style>\n",
       "<table border=\"1\" class=\"dataframe\">\n",
       "  <thead>\n",
       "    <tr style=\"text-align: right;\">\n",
       "      <th></th>\n",
       "      <th>text</th>\n",
       "    </tr>\n",
       "  </thead>\n",
       "  <tbody>\n",
       "    <tr>\n",
       "      <th>0</th>\n",
       "      <td>Hefo bus a y ddau flight maeon 17 awr . .</td>\n",
       "    </tr>\n",
       "    <tr>\n",
       "      <th>1</th>\n",
       "      <td>Ma corrections fi wedi cael ei derbyn 🎉</td>\n",
       "    </tr>\n",
       "    <tr>\n",
       "      <th>2</th>\n",
       "      <td>Neu chi ddod draw de</td>\n",
       "    </tr>\n",
       "    <tr>\n",
       "      <th>3</th>\n",
       "      <td>Archeb i chdi : \\nKeyring coch , sgwennu gwyn efo enwb arno plis . \\nDiolch</td>\n",
       "    </tr>\n",
       "    <tr>\n",
       "      <th>4</th>\n",
       "      <td>Falch bod neb di brifo</td>\n",
       "    </tr>\n",
       "  </tbody>\n",
       "</table>\n",
       "</div>"
      ],
      "text/plain": [
       "                                                                           text\n",
       "0                                    Hefo bus a y ddau flight maeon 17 awr . . \n",
       "1                                      Ma corrections fi wedi cael ei derbyn 🎉 \n",
       "2                                                         Neu chi ddod draw de \n",
       "3  Archeb i chdi : \\nKeyring coch , sgwennu gwyn efo enwb arno plis . \\nDiolch \n",
       "4                                                       Falch bod neb di brifo "
      ]
     },
     "execution_count": 122,
     "metadata": {},
     "output_type": "execute_result"
    }
   ],
   "source": [
    "def process_corcencc(path = Path()/'../data/CorCenCC_corpus/complete_corpus/electro_files', get_pos_tag=False):\n",
    "    text_files = get_text_files(path)\n",
    "    all_text = []\n",
    "    text_df = pd.DataFrame()\n",
    "    for f in text_files:\n",
    "        string_of_words = f.open().read()\n",
    "        list_of_words = ' '.join([t.split('_')[0] for t in string_of_words.split(' ')])\n",
    "        all_text.append(list_of_words[:500000])\n",
    "    text_df['text'] = all_text\n",
    "    return text_df\n",
    "df = process_corcencc()\n",
    "df.head()"
   ]
  },
  {
   "cell_type": "code",
   "execution_count": 125,
   "metadata": {
    "ExecuteTime": {
     "end_time": "2021-01-28T16:26:45.113907Z",
     "start_time": "2021-01-28T16:26:19.248400Z"
    }
   },
   "outputs": [
    {
     "data": {
      "text/html": [],
      "text/plain": [
       "<IPython.core.display.HTML object>"
      ]
     },
     "metadata": {},
     "output_type": "display_data"
    },
    {
     "name": "stderr",
     "output_type": "stream",
     "text": [
      "/Users/ifanjohnston/PycharmProjects/fastaiWelshLM/fastwelai/lib/python3.9/site-packages/numpy/core/_asarray.py:83: VisibleDeprecationWarning: Creating an ndarray from ragged nested sequences (which is a list-or-tuple of lists-or-tuples-or ndarrays with different lengths or shapes) is deprecated. If you meant to do this, you must specify 'dtype=object' when creating the ndarray\n",
      "  return array(a, dtype, copy=False, order=order)\n"
     ]
    }
   ],
   "source": [
    "corcen_text_dl = TextDataLoaders.from_df(df=df, text_col=0, is_lm = True)"
   ]
  },
  {
   "cell_type": "code",
   "execution_count": 131,
   "metadata": {
    "ExecuteTime": {
     "end_time": "2021-01-28T16:32:16.855051Z",
     "start_time": "2021-01-28T16:32:15.384112Z"
    }
   },
   "outputs": [],
   "source": [
    "learn = language_model_learner(corcen_text_dl, AWD_LSTM, drop_mult=0.3, metrics=[accuracy, Perplexity()])"
   ]
  },
  {
   "cell_type": "code",
   "execution_count": 132,
   "metadata": {
    "ExecuteTime": {
     "end_time": "2021-01-28T18:08:02.245535Z",
     "start_time": "2021-01-28T16:33:02.985199Z"
    }
   },
   "outputs": [
    {
     "data": {
      "text/html": [
       "<table border=\"1\" class=\"dataframe\">\n",
       "  <thead>\n",
       "    <tr style=\"text-align: left;\">\n",
       "      <th>epoch</th>\n",
       "      <th>train_loss</th>\n",
       "      <th>valid_loss</th>\n",
       "      <th>accuracy</th>\n",
       "      <th>perplexity</th>\n",
       "      <th>time</th>\n",
       "    </tr>\n",
       "  </thead>\n",
       "  <tbody>\n",
       "    <tr>\n",
       "      <td>0</td>\n",
       "      <td>3.641982</td>\n",
       "      <td>4.155957</td>\n",
       "      <td>0.334993</td>\n",
       "      <td>63.813019</td>\n",
       "      <td>1:34:59</td>\n",
       "    </tr>\n",
       "  </tbody>\n",
       "</table>"
      ],
      "text/plain": [
       "<IPython.core.display.HTML object>"
      ]
     },
     "metadata": {},
     "output_type": "display_data"
    }
   ],
   "source": [
    "learn.fit_one_cycle(1, 2e-2)"
   ]
  },
  {
   "cell_type": "code",
   "execution_count": null,
   "metadata": {
    "ExecuteTime": {
     "start_time": "2021-01-28T22:05:17.738Z"
    }
   },
   "outputs": [],
   "source": [
    "learn.export('1epoch')"
   ]
  },
  {
   "cell_type": "code",
   "execution_count": null,
   "metadata": {},
   "outputs": [],
   "source": []
  },
  {
   "cell_type": "code",
   "execution_count": 141,
   "metadata": {
    "ExecuteTime": {
     "end_time": "2021-01-28T20:37:31.859143Z",
     "start_time": "2021-01-28T20:37:31.046421Z"
    }
   },
   "outputs": [
    {
     "data": {
      "text/html": [],
      "text/plain": [
       "<IPython.core.display.HTML object>"
      ]
     },
     "metadata": {},
     "output_type": "display_data"
    },
    {
     "data": {
      "text/plain": [
       "\"Yn y diwedd , bo pobl yn gwella ' r gynrychioliadol . \\n\""
      ]
     },
     "execution_count": 141,
     "metadata": {},
     "output_type": "execute_result"
    }
   ],
   "source": [
    "learn.predict(\"Yn y diwedd, \", n_words=10)"
   ]
  },
  {
   "cell_type": "code",
   "execution_count": 142,
   "metadata": {
    "ExecuteTime": {
     "end_time": "2021-01-28T20:38:00.360685Z",
     "start_time": "2021-01-28T20:37:57.097870Z"
    }
   },
   "outputs": [
    {
     "data": {
      "text/html": [],
      "text/plain": [
       "<IPython.core.display.HTML object>"
      ]
     },
     "metadata": {},
     "output_type": "display_data"
    },
    {
     "data": {
      "text/html": [
       "<table border=\"1\" class=\"dataframe\">\n",
       "  <thead>\n",
       "    <tr style=\"text-align: right;\">\n",
       "      <th></th>\n",
       "      <th>input</th>\n",
       "      <th>target</th>\n",
       "      <th>pred</th>\n",
       "    </tr>\n",
       "  </thead>\n",
       "  <tbody>\n",
       "    <tr>\n",
       "      <th>0</th>\n",
       "      <td>xxbos xxmaj legend , byddai hynny ' n grêt ! \\n xxmaj gad i fi wybod pa benwythnos fyddai ' n gyfleus i ti . \\n xxmaj mae ' r babi yn due ar dyddiad , felly summer baby ! xxbos xxmaj cool ! \\n xxmaj gobeithio neith o ddod xxbos xxmaj dwi di bod yn y ddau . \\n xxmaj mae ' r un yn blaenau ydir zip wire a bounce</td>\n",
       "      <td>xxmaj legend , byddai hynny ' n grêt ! \\n xxmaj gad i fi wybod pa benwythnos fyddai ' n gyfleus i ti . \\n xxmaj mae ' r babi yn due ar dyddiad , felly summer baby ! xxbos xxmaj cool ! \\n xxmaj gobeithio neith o ddod xxbos xxmaj dwi di bod yn y ddau . \\n xxmaj mae ' r un yn blaenau ydir zip wire a bounce below</td>\n",
       "      <td>xxmaj xxunk xxmaj xxunk ' ' n bosib , \\n xxmaj mae , ' , am mor i ' n well i ' ' \\n xxmaj mae ' n xxmaj yn cael to y , ond mae yn , \\n xxmaj ie ! \\n xxmaj diolch bod na ' i xxmaj ie ' bod yn y byd yn \\n xxmaj mae ' r xxmaj yn y i yn . , xxunk ar</td>\n",
       "    </tr>\n",
       "    <tr>\n",
       "      <th>1</th>\n",
       "      <td>er mwyn ysbrydoli pobl ifanc ac oedolion . \\n xxmaj mae ' r fenter yn cael ei xxunk ar hyn o bryd mewn chwe ' xxmaj ardal xxmaj arloesi ' ar draws xxmaj cymru . \\n am ragor o wybodaeth ewch i enw \\n xxmaj cefnogir rhaglen arddangosfeydd a digwyddiadau xxmaj amgueddfa xxmaj genedlaethol lle gan chwaraewyr y xxmaj people 's xxmaj xxunk xxmaj lottery . \\n xxmaj diolch i gefnogaeth xxmaj</td>\n",
       "      <td>mwyn ysbrydoli pobl ifanc ac oedolion . \\n xxmaj mae ' r fenter yn cael ei xxunk ar hyn o bryd mewn chwe ' xxmaj ardal xxmaj arloesi ' ar draws xxmaj cymru . \\n am ragor o wybodaeth ewch i enw \\n xxmaj cefnogir rhaglen arddangosfeydd a digwyddiadau xxmaj amgueddfa xxmaj genedlaethol lle gan chwaraewyr y xxmaj people 's xxmaj xxunk xxmaj lottery . \\n xxmaj diolch i gefnogaeth xxmaj llywodraeth</td>\n",
       "      <td>mwyn sicrhau i i , yn , \\n xxmaj mae ' r xxmaj yn cael ei chynnal yn y o bryd , gwirionedd blynedd i xxunk xxmaj leol xxmaj xxmaj xxmaj xxmaj cymru , \\n xxmaj y o wybodaeth am i ' xxmaj xxmaj mae xxmaj xxmaj , ' xxmaj prifysgol xxmaj genedlaethol xxmaj , xxmaj xxmaj xxmaj ganolfan xxmaj xxmaj xxunk . xxunk xxmaj \\n xxmaj mae i bawb i cymru</td>\n",
       "    </tr>\n",
       "    <tr>\n",
       "      <th>2</th>\n",
       "      <td>y we , fel y gall pobl ei gyrchu a ' i ddefnyddio i chwilio . \\n xxmaj meddai enwb cyfenw , xxmaj cadeirydd , xxmaj cyngor xxmaj archifau a xxmaj chofnodion xxmaj cymru , \" xxmaj mae xxmaj prosiect xxmaj cynefin yn un o lawer o enghreifftiau gwych o dimau archifau a chofnodion ledled xxmaj cymru yn cydweithio i ddarparu ' r dogfennau gwerthfawr sy ' n cynrychioli ein hanes ni</td>\n",
       "      <td>we , fel y gall pobl ei gyrchu a ' i ddefnyddio i chwilio . \\n xxmaj meddai enwb cyfenw , xxmaj cadeirydd , xxmaj cyngor xxmaj archifau a xxmaj chofnodion xxmaj cymru , \" xxmaj mae xxmaj prosiect xxmaj cynefin yn un o lawer o enghreifftiau gwych o dimau archifau a chofnodion ledled xxmaj cymru yn cydweithio i ddarparu ' r dogfennau gwerthfawr sy ' n cynrychioli ein hanes ni oll</td>\n",
       "      <td>xxmaj xxmaj a y xxmaj y hŷn hun , ' r gilydd ' ' am \\n xxmaj mae xxmaj cyfenw , xxmaj xxunk xxmaj xxmaj xxunk xxmaj sir xxmaj xxmaj sir xxmaj lle , xxmaj xxmaj mae ' dr xxmaj datgloi yn xxmaj o ' o bobl o , ' xxmaj xxmaj xxmaj xxmaj xxmaj cymru , y â ' ' r xxmaj a . ' n cael ' profiadau xxmaj '</td>\n",
       "    </tr>\n",
       "    <tr>\n",
       "      <th>3</th>\n",
       "      <td>' r sector ei hun ac yn cael ei arwain gan ystod eang o bartneriaid a rhanddeiliaid , gan gynnwys xxmaj the xxmaj national xxmaj archives ( xxup uk ) a ' r xxmaj gymdeithas xxmaj archifau a xxmaj chofnodion ( y xxup du ac xxmaj iwerddon ) , ac yn cael ei gefnogi yng xxmaj nghymru gan xxmaj lywodraeth xxmaj cymru . \\n xxmaj bydd xxmaj archifau ledled xxmaj cymru yn</td>\n",
       "      <td>r sector ei hun ac yn cael ei arwain gan ystod eang o bartneriaid a rhanddeiliaid , gan gynnwys xxmaj the xxmaj national xxmaj archives ( xxup uk ) a ' r xxmaj gymdeithas xxmaj archifau a xxmaj chofnodion ( y xxup du ac xxmaj iwerddon ) , ac yn cael ei gefnogi yng xxmaj nghymru gan xxmaj lywodraeth xxmaj cymru . \\n xxmaj bydd xxmaj archifau ledled xxmaj cymru yn dathlu</td>\n",
       "      <td>r xxmaj cyhoeddus hun , yn ôl ei chynnal at y y o bobl , ' . a gynnwys xxmaj xxunk xxmaj xxunk xxmaj theatre xxmaj xxup hd ) , xxmaj r xxmaj xxunk xxmaj xxunk xxmaj xxmaj sir xxmaj xxmaj xxmaj du ) xxmaj xxunk ) . a yn xxmaj ei ddefnyddio ' xxmaj nghymru . xxmaj lywodraeth xxmaj cymru . \\n xxmaj mae xxmaj llywodraeth xxmaj xxmaj cymru yn cael</td>\n",
       "    </tr>\n",
       "    <tr>\n",
       "      <th>4</th>\n",
       "      <td>cyfenw tu ôl llwyfan ! \\n xxmaj mi ddaeth llwyddiant enfawr i xxmaj gôr lle xxmaj ddyfal xxmaj gaerdydd o dan arweiniad enwg , wrth i ni ddod yn ail yn y xxmaj côr xxmaj cymysg , xxmaj côr a ' r xxmaj côr xxmaj bechgyn , lle roeddwn yn ddigon ffodus o fod yn rhan o ' r llwyddiant yma . \\n xxmaj felly wrth astudio trwy gyfrwng xxmaj cymraeg ,</td>\n",
       "      <td>tu ôl llwyfan ! \\n xxmaj mi ddaeth llwyddiant enfawr i xxmaj gôr lle xxmaj ddyfal xxmaj gaerdydd o dan arweiniad enwg , wrth i ni ddod yn ail yn y xxmaj côr xxmaj cymysg , xxmaj côr a ' r xxmaj côr xxmaj bechgyn , lle roeddwn yn ddigon ffodus o fod yn rhan o ' r llwyddiant yma . \\n xxmaj felly wrth astudio trwy gyfrwng xxmaj cymraeg , mae</td>\n",
       "      <td>xxmaj hwnt i , \\n xxmaj mae fydd i i i ' xxunk xxmaj , xxunk . yn yn xxmaj y xxmaj . xxmaj gwrs ' ' i ôl - xxmaj xxmaj gymraeg xxmaj cymru , xxmaj xxunk xxmaj xxmaj r xxmaj ysgol xxmaj cymru xxmaj xxmaj , yn cael ffodus i ' yn xxmaj o ' r xxmaj yn . \\n xxmaj mae , gwrs ' ' y cymraeg xxmaj xxmaj</td>\n",
       "    </tr>\n",
       "    <tr>\n",
       "      <th>5</th>\n",
       "      <td>wedi eu cyfarfod ar y ffordd ! \\n xxmaj youtube : xxmaj mae nifer o glipiau fideos ar youtube y xxmaj coleg xxmaj cymraeg xxmaj cenedlaethol . \\n xxmaj mae ' r fideos yn ddefnyddiol iawn ac yn cynnwys sylwadau sydd gan gyflogwyr , myfyrwyr a darlithwyr am bwysigrwydd astudio yn xxmaj gymraeg . \\n xxmaj hefyd mae adran benodol ble mae llysgenhadon yn siarad am eu profiadau nhw fel myfyrwyr xxmaj</td>\n",
       "      <td>eu cyfarfod ar y ffordd ! \\n xxmaj youtube : xxmaj mae nifer o glipiau fideos ar youtube y xxmaj coleg xxmaj cymraeg xxmaj cenedlaethol . \\n xxmaj mae ' r fideos yn ddefnyddiol iawn ac yn cynnwys sylwadau sydd gan gyflogwyr , myfyrwyr a darlithwyr am bwysigrwydd astudio yn xxmaj gymraeg . \\n xxmaj hefyd mae adran benodol ble mae llysgenhadon yn siarad am eu profiadau nhw fel myfyrwyr xxmaj cymraeg</td>\n",
       "      <td>' lleoli , gyfer xxmaj , \\n xxmaj mae \\n xxmaj xxunk ' o bobl yn yn gyfer yn xxmaj xxunk xxmaj cymraeg xxmaj cenedlaethol yn \\n xxmaj mae ' r xxmaj yn cael iawn , yn y xxmaj ar yn xxmaj . a yn lle yn y , ' xxmaj xxunk . \\n xxmaj mae , ' xxmaj yn mae ' yn y xxmaj y xxunk yn . xxmaj yn cymraeg</td>\n",
       "    </tr>\n",
       "    <tr>\n",
       "      <th>6</th>\n",
       "      <td>stondin trwy ddydd xxmaj iau . \\n xxmaj roedd yn brysur gyda digwyddiadau amrywiol a gig gwych xxmaj patrobas ! \\n xxmaj roedd yn dda hefyd cael sgwrsio gyda chi ar y stondin a hefyd wrth grwydro ' r maes . \\n xxmaj edrychwch mas am eich lluniau yn y ffrâm xxmaj instagram ar gyfrif y xxmaj coleg ! \\n xxmaj dyma lun enwg cyfenw , xxmaj ben xxmaj dant , i</td>\n",
       "      <td>trwy ddydd xxmaj iau . \\n xxmaj roedd yn brysur gyda digwyddiadau amrywiol a gig gwych xxmaj patrobas ! \\n xxmaj roedd yn dda hefyd cael sgwrsio gyda chi ar y stondin a hefyd wrth grwydro ' r maes . \\n xxmaj edrychwch mas am eich lluniau yn y ffrâm xxmaj instagram ar gyfrif y xxmaj coleg ! \\n xxmaj dyma lun enwg cyfenw , xxmaj ben xxmaj dant , i enwi</td>\n",
       "      <td>xxup e xxmaj iau . \\n xxmaj xxunk xxmaj gweithio yn ' yn , xxmaj eidion i cymru yn \\n xxmaj mae y wych iawn yn ei gyda ' ' gyfer pryd , ' yn gwrs yn r xxmaj awyr \\n xxmaj mae ar o ddim xxmaj , y xxmaj . xxunk . gyfer . xxmaj xxunk xxmaj \\n xxmaj mae ' o yn , xxmaj xxunk xxmaj xxunk , xxmaj '</td>\n",
       "    </tr>\n",
       "    <tr>\n",
       "      <th>7</th>\n",
       "      <td>er mwyn gwirio os ydy eich cwrs dewisol yn gymwys ar gyfer yr xxmaj ysgoloriaeth ar y wefan neu drwy ' r xxmaj ap . \\n 2 . \\n xxmaj ymaelodi â ' r xxmaj coleg fel darpar fyfyriwr er mwyn nodi rhif aelodaeth ar y ffurflen gais . \\n 3 . \\n xxmaj lawrlwytho ' r ffurflen ymgeisio sydd ar y wefan a ' i lenwi . \\n 4 . \\n</td>\n",
       "      <td>mwyn gwirio os ydy eich cwrs dewisol yn gymwys ar gyfer yr xxmaj ysgoloriaeth ar y wefan neu drwy ' r xxmaj ap . \\n 2 . \\n xxmaj ymaelodi â ' r xxmaj coleg fel darpar fyfyriwr er mwyn nodi rhif aelodaeth ar y ffurflen gais . \\n 3 . \\n xxmaj lawrlwytho ' r ffurflen ymgeisio sydd ar y wefan a ' i lenwi . \\n 4 . \\n xxmaj</td>\n",
       "      <td>mwyn sicrhau ' nad ' bod , , y . gyfer y xxmaj eisteddfod xxmaj gyfer xxmaj . ' ' r xxmaj gymraeg xxmaj \\n xxmaj . \\n xxmaj mae , xxmaj r xxmaj xxunk xxmaj xxmaj xxmaj , mwyn cael ' i o gyfer wefan . . \\n xxmaj . \\n xxmaj mae xxmaj r xxmaj isod ar yn gael xxmaj . ' r ' ' \\n xxmaj . \\n xxmaj</td>\n",
       "    </tr>\n",
       "    <tr>\n",
       "      <th>8</th>\n",
       "      <td>chwaraeon yn amrywio o bel droed i focsio ac yna gem rygbi yn stadiwm xxmaj liberty cyn mentro mas i xxmaj wind cyfenw am weddill y nos ! \\n xxmaj diwrnod gwych y dyle chi edrych mlan ato pan ewch i ' r brifysgol . \\n xxmaj nos enwb diwethaf fe es i am drip i wylio bach o gerddoriaeth byw yn xxmaj eglwys xxmaj st enw yng xxmaj nghaerdydd . \\n</td>\n",
       "      <td>yn amrywio o bel droed i focsio ac yna gem rygbi yn stadiwm xxmaj liberty cyn mentro mas i xxmaj wind cyfenw am weddill y nos ! \\n xxmaj diwrnod gwych y dyle chi edrych mlan ato pan ewch i ' r brifysgol . \\n xxmaj nos enwb diwethaf fe es i am drip i wylio bach o gerddoriaeth byw yn xxmaj eglwys xxmaj st enw yng xxmaj nghaerdydd . \\n enwg</td>\n",
       "      <td>xxmaj xxmaj o ' - , ' , yn , i . xxmaj y xxunk xxmaj mynd i . ' xxunk . . y y xxmaj . \\n xxmaj xxunk xxmaj i xxmaj xxmaj ' ar i , fydd i ' r xxmaj yn \\n xxmaj mae xxmaj , , ' i i y i xxmaj ' o ' , . y xxunk xxmaj sant xxmaj enw xxmaj nghaerdydd . \\n xxmaj</td>\n",
       "    </tr>\n",
       "  </tbody>\n",
       "</table>"
      ],
      "text/plain": [
       "<IPython.core.display.HTML object>"
      ]
     },
     "metadata": {},
     "output_type": "display_data"
    }
   ],
   "source": [
    "learn.show_results()"
   ]
  }
 ],
 "metadata": {
  "kernelspec": {
   "display_name": "Python 3",
   "language": "python",
   "name": "python3"
  },
  "language_info": {
   "codemirror_mode": {
    "name": "ipython",
    "version": 3
   },
   "file_extension": ".py",
   "mimetype": "text/x-python",
   "name": "python",
   "nbconvert_exporter": "python",
   "pygments_lexer": "ipython3",
   "version": "3.9.1"
  }
 },
 "nbformat": 4,
 "nbformat_minor": 4
}

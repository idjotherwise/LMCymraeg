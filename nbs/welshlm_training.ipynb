{
 "cells": [
  {
   "cell_type": "code",
   "execution_count": 1,
   "metadata": {
    "ExecuteTime": {
     "end_time": "2020-11-13T19:17:37.011797Z",
     "start_time": "2020-11-13T19:17:33.807249Z"
    }
   },
   "outputs": [],
   "source": [
    "from fastai import *\n",
    "from fastai.text.all import *\n",
    "from fastai.basics import *"
   ]
  },
  {
   "cell_type": "code",
   "execution_count": 2,
   "metadata": {
    "ExecuteTime": {
     "end_time": "2020-11-13T19:17:38.454847Z",
     "start_time": "2020-11-13T19:17:38.452116Z"
    }
   },
   "outputs": [],
   "source": [
    "import re\n",
    "import pandas as pd"
   ]
  },
  {
   "cell_type": "code",
   "execution_count": 19,
   "metadata": {
    "ExecuteTime": {
     "end_time": "2020-11-12T22:37:42.168438Z",
     "start_time": "2020-11-12T22:37:42.158911Z"
    }
   },
   "outputs": [],
   "source": [
    "def get_wiki(path,lang):\n",
    "    name = f'{lang}wiki'\n",
    "    if (path/name).exists():\n",
    "        print(f\"{path/name} already exists; not downloading\")\n",
    "        #return\n",
    "\n",
    "    xml_fn = f\"{lang}wiki-latest-pages-articles.xml\"\n",
    "    zip_fn = f\"{xml_fn}.bz2\"\n",
    "\n",
    "    if not (path/xml_fn).exists():\n",
    "        print(\"downloading...\")\n",
    "        download_url(f'https://dumps.wikimedia.org/{name}/latest/{zip_fn}', path/zip_fn)\n",
    "        print(\"unzipping...\")\n",
    "        bunzip(path/zip_fn)\n",
    "\n",
    "    with working_directory(path):\n",
    "        #if not (path/'wikiextractor').exists(): os.system('git clone https://github.com/attardi/wikiextractor.git')\n",
    "        print(\"extracting...\")\n",
    "        os.system(\"python -m wikiextractor.WikiExtractor --processes 4 --no_templates \" +\n",
    "            f\"--min_text_length 1800 --filter_disambig_pages --log_file log -b 100G -q {xml_fn}\")\n",
    "    shutil.move(str(path/'text/AA/wiki_00'), str(path/name))\n",
    "    shutil.rmtree(path/'text')"
   ]
  },
  {
   "cell_type": "code",
   "execution_count": 20,
   "metadata": {
    "ExecuteTime": {
     "end_time": "2020-11-12T22:37:43.172295Z",
     "start_time": "2020-11-12T22:37:43.164537Z"
    }
   },
   "outputs": [],
   "source": [
    "def split_wiki(path,lang):\n",
    "    dest = path/'docs'\n",
    "    name = f'{lang}wiki'\n",
    "    if dest.exists():\n",
    "        print(f\"{dest} already exists; not splitting\")\n",
    "        return dest\n",
    "\n",
    "    dest.mkdir(exist_ok=True, parents=True)\n",
    "    title_re = re.compile(rf'<doc id=\"\\d+\" url=\"https://{lang}.wikipedia.org/wiki\\?curid=\\d+\" title=\"([^\"]+)\">')\n",
    "    lines = (path/name).open()\n",
    "    f=None\n",
    "\n",
    "    for i,l in enumerate(lines):\n",
    "        if i%100000 == 0: print(i)\n",
    "        if l.startswith('<doc id=\"'):\n",
    "            title = title_re.findall(l)[0].replace('/','_')\n",
    "            if len(title)>150: continue\n",
    "            if f: f.close()\n",
    "            f = (dest/f'{title}.txt').open('w')\n",
    "        else: f.write(l)\n",
    "    f.close()\n",
    "    return dest"
   ]
  },
  {
   "cell_type": "code",
   "execution_count": 13,
   "metadata": {
    "ExecuteTime": {
     "end_time": "2020-11-12T22:37:23.911364Z",
     "start_time": "2020-11-12T22:37:23.903641Z"
    }
   },
   "outputs": [],
   "source": [
    "config = Config()"
   ]
  },
  {
   "cell_type": "code",
   "execution_count": 14,
   "metadata": {
    "ExecuteTime": {
     "end_time": "2020-11-12T22:37:24.851583Z",
     "start_time": "2020-11-12T22:37:24.848314Z"
    }
   },
   "outputs": [],
   "source": [
    "data_path = config['data_path']"
   ]
  },
  {
   "cell_type": "code",
   "execution_count": 15,
   "metadata": {
    "ExecuteTime": {
     "end_time": "2020-11-12T22:37:25.483558Z",
     "start_time": "2020-11-12T22:37:25.478424Z"
    }
   },
   "outputs": [],
   "source": [
    "lang = 'cy'\n",
    "name = f\"{lang}wiki\"\n",
    "path = data_path/name\n",
    "path.mkdir(exist_ok=True, parents=True)\n",
    "lm_fns = [f'{lang}_wt', f'{lang}_wt_vocab']"
   ]
  },
  {
   "cell_type": "code",
   "execution_count": 33,
   "metadata": {
    "ExecuteTime": {
     "end_time": "2020-11-12T17:53:29.589393Z",
     "start_time": "2020-11-12T17:50:56.490759Z"
    }
   },
   "outputs": [
    {
     "name": "stdout",
     "output_type": "stream",
     "text": [
      "/Users/ifanjohnston/.fastai/data/cywiki/cywiki already exists; not downloading\n",
      "downloading...\n",
      "unzipping...\n",
      "extracting...\n"
     ]
    }
   ],
   "source": [
    "get_wiki(path, lang)"
   ]
  },
  {
   "cell_type": "code",
   "execution_count": 16,
   "metadata": {
    "ExecuteTime": {
     "end_time": "2020-11-12T22:37:29.779675Z",
     "start_time": "2020-11-12T22:37:29.768474Z"
    }
   },
   "outputs": [
    {
     "data": {
      "text/plain": [
       "(#7) [Path('/Users/ifanjohnston/.fastai/data/cywiki/cywiki-latest-pages-articles.xml.bz2'),Path('/Users/ifanjohnston/.fastai/data/cywiki/cywiki-latest-pages-articles.xml'),Path('/Users/ifanjohnston/.fastai/data/cywiki/cywiki'),Path('/Users/ifanjohnston/.fastai/data/cywiki/docs_tok'),Path('/Users/ifanjohnston/.fastai/data/cywiki/docs'),Path('/Users/ifanjohnston/.fastai/data/cywiki/log'),Path('/Users/ifanjohnston/.fastai/data/cywiki/wikiextractor')]"
      ]
     },
     "execution_count": 16,
     "metadata": {},
     "output_type": "execute_result"
    }
   ],
   "source": [
    "path.ls()"
   ]
  },
  {
   "cell_type": "code",
   "execution_count": 17,
   "metadata": {
    "ExecuteTime": {
     "end_time": "2020-11-12T22:37:32.550667Z",
     "start_time": "2020-11-12T22:37:32.410109Z"
    }
   },
   "outputs": [
    {
     "name": "stdout",
     "output_type": "stream",
     "text": [
      "<doc id=\"3\" url=\"https://cy.wikipedia.org/wiki?curid=3\" title=\"Cymraeg\">\r\n",
      "Cymraeg\r\n",
      "\r\n",
      "Aelod o'r gangen Frythonaidd o'r ieithoedd Celtaidd a siaredir yn frodorol yng Nghymru, gan Gymry a phobl eraill ar wasgar yn Lloegr, a chan gymuned fechan yn Y Wladfa, yr Ariannin yw'r Gymraeg (hefyd Cymraeg heb y fannod).\r\n",
      "\r\n",
      "Yng Nghyfrifiad y DU (2011), darganfuwyd fod 19% (562,000) o breswylwyr Cymru (tair blwydd a throsodd) yn gallu siarad Cymraeg. O'r ffigwr hon, darganfuwyd fod 77% (431,000) yn gallu siarad, darllen, ac ysgrifennu'r iaith; dywedwyd 73% o breswylwyr Cymru (2.2 miliwn) fod dim sgiliau yn y Gymraeg ganddynt. Gellir cymharu hwn â chyfrifiad 2001, a ddarganfu fod 20.8% o'r boblogaeth yn gallu siarad Cymraeg, gyda 57% (315,000) o'r ffigwr hon yn dweud eu bod yn rhugl yn yr iaith.\r\n",
      "\r\n",
      "Mae'r Gymraeg yn un o'r 55 o ieithoedd i gael eu cynnwys fel cyfarchiad ar Record Aur y Voyager er mwyn cynrychioli'r Ddaear yn rhaglen Voyager NASA a lansiwyd ym 1977. Mae pob cyfarchiad yn unigryw i'r iaith, a dywed y Gymraeg \"\"Iechyd da i chwi yn awr ac yn oesoedd\"\".\r\n",
      "\r\n",
      "Mae Mesur y Gymraeg 2011 (Cymru) yn rhoi statws swyddogol i'r Gymraeg yng Nghymru, lle mai'r Gymraeg yw'r unig iaith Geltaidd sydd yn swyddogol \"de jure\" mewn unrhyw ran o'r Deyrnas Unedig.\r\n"
     ]
    }
   ],
   "source": [
    "!head -n10 {path}/{name}"
   ]
  },
  {
   "cell_type": "code",
   "execution_count": 21,
   "metadata": {
    "ExecuteTime": {
     "end_time": "2020-11-12T22:37:46.858490Z",
     "start_time": "2020-11-12T22:37:46.853843Z"
    }
   },
   "outputs": [
    {
     "name": "stdout",
     "output_type": "stream",
     "text": [
      "/Users/ifanjohnston/.fastai/data/cywiki/docs already exists; not splitting\n"
     ]
    }
   ],
   "source": [
    "dest = split_wiki(path, lang)"
   ]
  },
  {
   "cell_type": "code",
   "execution_count": 59,
   "metadata": {
    "ExecuteTime": {
     "end_time": "2020-11-12T18:26:40.205383Z",
     "start_time": "2020-11-12T18:26:40.150445Z"
    }
   },
   "outputs": [
    {
     "data": {
      "text/plain": [
       "(#5) [Path('/Users/ifanjohnston/.fastai/data/cywiki/docs/Heini Gruffudd.txt'),Path('/Users/ifanjohnston/.fastai/data/cywiki/docs/Mynyddfor.txt'),Path('/Users/ifanjohnston/.fastai/data/cywiki/docs/Mathrafal.txt'),Path('/Users/ifanjohnston/.fastai/data/cywiki/docs/Taxus baccata.txt'),Path('/Users/ifanjohnston/.fastai/data/cywiki/docs/New Jersey Transit.txt')]"
      ]
     },
     "execution_count": 59,
     "metadata": {},
     "output_type": "execute_result"
    }
   ],
   "source": [
    "dest.ls()[:5]"
   ]
  },
  {
   "cell_type": "code",
   "execution_count": 3,
   "metadata": {
    "ExecuteTime": {
     "end_time": "2020-11-12T22:12:55.402934Z",
     "start_time": "2020-11-12T22:12:55.395341Z"
    }
   },
   "outputs": [
    {
     "data": {
      "text/plain": [
       "'/Users/ifanjohnston/PycharmProjects/fastaiWelshLM/nbs'"
      ]
     },
     "execution_count": 3,
     "metadata": {},
     "output_type": "execute_result"
    }
   ],
   "source": [
    "os.getcwd()"
   ]
  },
  {
   "cell_type": "code",
   "execution_count": 10,
   "metadata": {
    "ExecuteTime": {
     "end_time": "2020-11-12T22:36:39.924939Z",
     "start_time": "2020-11-12T22:36:39.908824Z"
    }
   },
   "outputs": [
    {
     "ename": "NameError",
     "evalue": "name 'learn' is not defined",
     "output_type": "error",
     "traceback": [
      "\u001b[0;31m---------------------------------------------------------------------------\u001b[0m",
      "\u001b[0;31mNameError\u001b[0m                                 Traceback (most recent call last)",
      "\u001b[0;32m<ipython-input-10-18eca2ea815d>\u001b[0m in \u001b[0;36m<module>\u001b[0;34m\u001b[0m\n\u001b[0;32m----> 1\u001b[0;31m \u001b[0mlearn\u001b[0m\u001b[0;34m.\u001b[0m\u001b[0mload\u001b[0m\u001b[0;34m(\u001b[0m\u001b[0;34m'model/cy_wt.pth'\u001b[0m\u001b[0;34m)\u001b[0m\u001b[0;34m\u001b[0m\u001b[0;34m\u001b[0m\u001b[0m\n\u001b[0m",
      "\u001b[0;31mNameError\u001b[0m: name 'learn' is not defined"
     ]
    }
   ],
   "source": [
    "learn.load('model/cy_wt.pth')"
   ]
  },
  {
   "cell_type": "code",
   "execution_count": 68,
   "metadata": {
    "ExecuteTime": {
     "end_time": "2020-11-12T18:31:48.257220Z",
     "start_time": "2020-11-12T18:31:48.210345Z"
    }
   },
   "outputs": [],
   "source": [
    "TextDataLoaders??"
   ]
  },
  {
   "cell_type": "code",
   "execution_count": 24,
   "metadata": {
    "ExecuteTime": {
     "end_time": "2020-11-12T22:38:54.151044Z",
     "start_time": "2020-11-12T22:38:52.915569Z"
    }
   },
   "outputs": [],
   "source": [
    "text_data = TextDataLoaders.from_folder(dest, valid_pct = 0.2, is_lm=True)"
   ]
  },
  {
   "cell_type": "code",
   "execution_count": 58,
   "metadata": {
    "ExecuteTime": {
     "end_time": "2020-11-12T18:25:42.981704Z",
     "start_time": "2020-11-12T18:25:42.764891Z"
    },
    "collapsed": true
   },
   "outputs": [
    {
     "data": {
      "text/html": [
       "<table border=\"1\" class=\"dataframe\">\n",
       "  <thead>\n",
       "    <tr style=\"text-align: right;\">\n",
       "      <th></th>\n",
       "      <th>text</th>\n",
       "      <th>text_</th>\n",
       "    </tr>\n",
       "  </thead>\n",
       "  <tbody>\n",
       "    <tr>\n",
       "      <th>0</th>\n",
       "      <td>xxbos xxmaj grugiar goch \\n\\n xxmaj aderyn ac isrywogaeth o adar yw xxmaj grugiar goch ( sy'n enw benywaidd ; enw lluosog : grugieir cochion ) a adnabyddir hefyd gyda'i enw gwyddonol xxmaj lagopus lagopus scotica ; yr enw xxmaj saesneg arno yw \" red grouse \" . xxmaj mae'n perthyn i deulu'r xxmaj ffesantod ( lladin : \" phasianidae \" ) sydd yn urdd y \" galliformes \" . xxmaj ystyrir</td>\n",
       "      <td>xxmaj grugiar goch \\n\\n xxmaj aderyn ac isrywogaeth o adar yw xxmaj grugiar goch ( sy'n enw benywaidd ; enw lluosog : grugieir cochion ) a adnabyddir hefyd gyda'i enw gwyddonol xxmaj lagopus lagopus scotica ; yr enw xxmaj saesneg arno yw \" red grouse \" . xxmaj mae'n perthyn i deulu'r xxmaj ffesantod ( lladin : \" phasianidae \" ) sydd yn urdd y \" galliformes \" . xxmaj ystyrir y</td>\n",
       "    </tr>\n",
       "    <tr>\n",
       "      <th>1</th>\n",
       "      <td>, xxmaj nannetta yn \" falstaff \" xxmaj giuseppe xxmaj verdi , xxmaj xxunk yn \" i xxunk xxunk \" gan xxmaj ermanno wolf - ferrari , a xxmaj musetta yn \" la bohème \" xxmaj giacomo xxmaj puccini . xxmaj fe bortreadodd hefyd rôl y teitl yn y première xxmaj eidalaidd o \" xxunk xxunk xxmaj xxunk \" gan xxmaj xxunk xxmaj xxunk yn xxmaj la xxmaj scala ym 1958 .</td>\n",
       "      <td>xxmaj nannetta yn \" falstaff \" xxmaj giuseppe xxmaj verdi , xxmaj xxunk yn \" i xxunk xxunk \" gan xxmaj ermanno wolf - ferrari , a xxmaj musetta yn \" la bohème \" xxmaj giacomo xxmaj puccini . xxmaj fe bortreadodd hefyd rôl y teitl yn y première xxmaj eidalaidd o \" xxunk xxunk xxmaj xxunk \" gan xxmaj xxunk xxmaj xxunk yn xxmaj la xxmaj scala ym 1958 . \\n\\n</td>\n",
       "    </tr>\n",
       "    <tr>\n",
       "      <th>2</th>\n",
       "      <td>yn gynt , fel bod y stêm yn xxunk wrth wthio'r piston . \\n\\n xxmaj os bydd lle i gredu fod dŵr yn y silindrau ( er enghraifft ar gychwyn pan fydd ager yn troi'n ddŵr wrth gysylltu â'r silindr oer , neu os daw dŵr drosodd gyda'r ager o'r bwyler ) , y mae'n rhaid agor y xxunk gollwng dŵr sydd yng ngwaelod y silindrau ( gweler uchod ) . \\n\\n\\n</td>\n",
       "      <td>gynt , fel bod y stêm yn xxunk wrth wthio'r piston . \\n\\n xxmaj os bydd lle i gredu fod dŵr yn y silindrau ( er enghraifft ar gychwyn pan fydd ager yn troi'n ddŵr wrth gysylltu â'r silindr oer , neu os daw dŵr drosodd gyda'r ager o'r bwyler ) , y mae'n rhaid agor y xxunk gollwng dŵr sydd yng ngwaelod y silindrau ( gweler uchod ) . \\n\\n\\n &lt;</td>\n",
       "    </tr>\n",
       "    <tr>\n",
       "      <th>3</th>\n",
       "      <td>, y bont wreiddiol xxmaj pont y xxmaj borth a godwyd gan xxmaj thomas xxmaj telford ym 1826 a'r un fwy , xxmaj pont xxmaj britannia sydd yn cysylltu'r xxup a55 â'r ynys ynghyd â xxmaj rheilffordd xxmaj arfordir xxmaj gogledd xxmaj cymru . xxmaj yng xxmaj nghyfrifiad 2011 roedd poblogaeth yr ynys yn xxunk . xxmaj mae'r canran o'r boblogaeth sy'n siarad rhywfaint o xxmaj gymraeg oddeutu 70 % , yn</td>\n",
       "      <td>y bont wreiddiol xxmaj pont y xxmaj borth a godwyd gan xxmaj thomas xxmaj telford ym 1826 a'r un fwy , xxmaj pont xxmaj britannia sydd yn cysylltu'r xxup a55 â'r ynys ynghyd â xxmaj rheilffordd xxmaj arfordir xxmaj gogledd xxmaj cymru . xxmaj yng xxmaj nghyfrifiad 2011 roedd poblogaeth yr ynys yn xxunk . xxmaj mae'r canran o'r boblogaeth sy'n siarad rhywfaint o xxmaj gymraeg oddeutu 70 % , yn ôl</td>\n",
       "    </tr>\n",
       "    <tr>\n",
       "      <th>4</th>\n",
       "      <td>ystod y 1970au , cydweithiodd hefyd ar chwe albwm o ganeuon gyda xxmaj pete xxmaj atkin   : \\n\\n\\n xxmaj roedd adfywiad o ddiddordeb yn y caneuon yn y 1990au hwyr , a sbardunwyd yn bennaf gan xxmaj steve xxmaj xxunk o restr bostio xxmaj rhyngrwyd \" midnight xxmaj voices \" yn 1997 . xxmaj arweiniodd hyn at cyhoeddi chwe albwm ar xxup cd rhwng 1997 a 2001 , yn ogystal â</td>\n",
       "      <td>y 1970au , cydweithiodd hefyd ar chwe albwm o ganeuon gyda xxmaj pete xxmaj atkin   : \\n\\n\\n xxmaj roedd adfywiad o ddiddordeb yn y caneuon yn y 1990au hwyr , a sbardunwyd yn bennaf gan xxmaj steve xxmaj xxunk o restr bostio xxmaj rhyngrwyd \" midnight xxmaj voices \" yn 1997 . xxmaj arweiniodd hyn at cyhoeddi chwe albwm ar xxup cd rhwng 1997 a 2001 , yn ogystal â pherfformiadau</td>\n",
       "    </tr>\n",
       "    <tr>\n",
       "      <th>5</th>\n",
       "      <td>peters yn ei lyfr \" xxunk on xxmaj chaos \" yn dweud fod yn rhaid i reolwyr fod yn barod i dderbyn newid parhaus yn y gwaith . xxmaj mae son am newid i wella pethau yn gallu ymddangos fel beirniadaeth o berfformiad ac arferion y gorffennol . xxmaj mae newid hefyd yn cael ei weld fel trafferth ychwanegol oherwydd mae’n golygu newid hen arferion gweithio . xxmaj mae newid yn creu</td>\n",
       "      <td>yn ei lyfr \" xxunk on xxmaj chaos \" yn dweud fod yn rhaid i reolwyr fod yn barod i dderbyn newid parhaus yn y gwaith . xxmaj mae son am newid i wella pethau yn gallu ymddangos fel beirniadaeth o berfformiad ac arferion y gorffennol . xxmaj mae newid hefyd yn cael ei weld fel trafferth ychwanegol oherwydd mae’n golygu newid hen arferion gweithio . xxmaj mae newid yn creu ofnau</td>\n",
       "    </tr>\n",
       "    <tr>\n",
       "      <th>6</th>\n",
       "      <td>amser magu . \\n\\n xxmaj fe xxunk wyau mewn pythefnos , a xxunk ifanc yn y mwd a gro mân ar ymylon dwr llonydd , yn byw jest fel pryf genwair . xxmaj arhosant yno hyd at 5 mlynedd ag wedyn yn newid eu ffurf pan yn cyraedd maint 15 – 20   cm . xxmaj felly wedyn , mi wneith yr holl beth ail ddechrau gyda’r xxunk yma yn gwneud eu</td>\n",
       "      <td>magu . \\n\\n xxmaj fe xxunk wyau mewn pythefnos , a xxunk ifanc yn y mwd a gro mân ar ymylon dwr llonydd , yn byw jest fel pryf genwair . xxmaj arhosant yno hyd at 5 mlynedd ag wedyn yn newid eu ffurf pan yn cyraedd maint 15 – 20   cm . xxmaj felly wedyn , mi wneith yr holl beth ail ddechrau gyda’r xxunk yma yn gwneud eu ffordd</td>\n",
       "    </tr>\n",
       "    <tr>\n",
       "      <th>7</th>\n",
       "      <td>' , ' cân xxmaj doli ' a ' gwraig y xxmaj pysgotwr ' . y gerdd a wnaeth ei enw fodd bynnag oedd ei farwnad i'r xxmaj esgob xxmaj heber , a wobrwyd yn xxmaj eisteddfod xxmaj dinbych yn 1828 . \\n\\n xxmaj ysgrifennodd nifer o lythyrau yn ogystal , yn xxmaj gymraeg a xxmaj saesneg , a nodweddir gan arddull cain a diwylliedig . xxmaj cyfrannodd nifer o erthyglau i'r</td>\n",
       "      <td>, ' cân xxmaj doli ' a ' gwraig y xxmaj pysgotwr ' . y gerdd a wnaeth ei enw fodd bynnag oedd ei farwnad i'r xxmaj esgob xxmaj heber , a wobrwyd yn xxmaj eisteddfod xxmaj dinbych yn 1828 . \\n\\n xxmaj ysgrifennodd nifer o lythyrau yn ogystal , yn xxmaj gymraeg a xxmaj saesneg , a nodweddir gan arddull cain a diwylliedig . xxmaj cyfrannodd nifer o erthyglau i'r cylchgronau</td>\n",
       "    </tr>\n",
       "    <tr>\n",
       "      <th>8</th>\n",
       "      <td>ffrangeg . xxmaj ei gyfrol fywaf adnabyddus yw'r \" barzaz xxmaj breiz \" . \\n\\n xxmaj roedd xxmaj villemarqué yn gyfaill i xxmaj gymru a'r xxmaj gymraeg . xxmaj cydweithiodd â'r xxmaj arglwyddes xxmaj charlotte xxmaj guest ar ei chyfieithiad o'r xxmaj mabinogion ( a gyhoeddwyd yn 1838 ) . xxmaj yn ddau - ddeg - tri oed , yn hydref a gaeaf 1838 a 1839 , daeth i xxmaj ferthyr ac</td>\n",
       "      <td>. xxmaj ei gyfrol fywaf adnabyddus yw'r \" barzaz xxmaj breiz \" . \\n\\n xxmaj roedd xxmaj villemarqué yn gyfaill i xxmaj gymru a'r xxmaj gymraeg . xxmaj cydweithiodd â'r xxmaj arglwyddes xxmaj charlotte xxmaj guest ar ei chyfieithiad o'r xxmaj mabinogion ( a gyhoeddwyd yn 1838 ) . xxmaj yn ddau - ddeg - tri oed , yn hydref a gaeaf 1838 a 1839 , daeth i xxmaj ferthyr ac xxmaj</td>\n",
       "    </tr>\n",
       "  </tbody>\n",
       "</table>"
      ],
      "text/plain": [
       "<IPython.core.display.HTML object>"
      ]
     },
     "metadata": {},
     "output_type": "display_data"
    }
   ],
   "source": [
    "text_data.show_batch()"
   ]
  },
  {
   "cell_type": "code",
   "execution_count": 64,
   "metadata": {
    "ExecuteTime": {
     "end_time": "2020-11-12T18:28:11.973946Z",
     "start_time": "2020-11-12T18:28:11.967265Z"
    }
   },
   "outputs": [
    {
     "data": {
      "text/plain": [
       "(58744, 5416)"
      ]
     },
     "execution_count": 64,
     "metadata": {},
     "output_type": "execute_result"
    }
   ],
   "source": [
    "len(text_data.vocab), len(text_data.train_ds)"
   ]
  },
  {
   "cell_type": "code",
   "execution_count": 22,
   "metadata": {
    "ExecuteTime": {
     "end_time": "2020-11-12T22:38:25.353858Z",
     "start_time": "2020-11-12T22:38:25.239357Z"
    }
   },
   "outputs": [],
   "source": [
    "language_model_learner??"
   ]
  },
  {
   "cell_type": "code",
   "execution_count": 32,
   "metadata": {
    "ExecuteTime": {
     "end_time": "2020-11-12T22:42:29.592271Z",
     "start_time": "2020-11-12T22:42:28.589308Z"
    }
   },
   "outputs": [
    {
     "ename": "FileNotFoundError",
     "evalue": "[Errno 2] No such file or directory: 'models/y.pkl'",
     "output_type": "error",
     "traceback": [
      "\u001b[0;31m---------------------------------------------------------------------------\u001b[0m",
      "\u001b[0;31mFileNotFoundError\u001b[0m                         Traceback (most recent call last)",
      "\u001b[0;32m<ipython-input-32-6f942f31f114>\u001b[0m in \u001b[0;36m<module>\u001b[0;34m\u001b[0m\n\u001b[0;32m----> 1\u001b[0;31m \u001b[0mlearn\u001b[0m \u001b[0;34m=\u001b[0m \u001b[0mlanguage_model_learner\u001b[0m\u001b[0;34m(\u001b[0m\u001b[0mtext_data\u001b[0m\u001b[0;34m,\u001b[0m \u001b[0mAWD_LSTM\u001b[0m\u001b[0;34m,\u001b[0m \u001b[0mdrop_mult\u001b[0m\u001b[0;34m=\u001b[0m\u001b[0;36m0.5\u001b[0m\u001b[0;34m,\u001b[0m\u001b[0mpath\u001b[0m\u001b[0;34m=\u001b[0m\u001b[0;34m''\u001b[0m\u001b[0;34m,\u001b[0m\u001b[0mpretrained_fnames\u001b[0m\u001b[0;34m=\u001b[0m\u001b[0;34m'cy_wt'\u001b[0m\u001b[0;34m)\u001b[0m\u001b[0;34m\u001b[0m\u001b[0;34m\u001b[0m\u001b[0m\n\u001b[0m",
      "\u001b[0;32m~/PycharmProjects/fastaiWelshLM/welshai/lib/python3.7/site-packages/fastai/text/learner.py\u001b[0m in \u001b[0;36mlanguage_model_learner\u001b[0;34m(dls, arch, config, drop_mult, backwards, pretrained, pretrained_fnames, **kwargs)\u001b[0m\n\u001b[1;32m    207\u001b[0m             \u001b[0;32mtry\u001b[0m\u001b[0;34m:\u001b[0m \u001b[0mfnames\u001b[0m \u001b[0;34m=\u001b[0m \u001b[0;34m[\u001b[0m\u001b[0mlist\u001b[0m\u001b[0;34m(\u001b[0m\u001b[0mmodel_path\u001b[0m\u001b[0;34m.\u001b[0m\u001b[0mglob\u001b[0m\u001b[0;34m(\u001b[0m\u001b[0;34mf'*.{ext}'\u001b[0m\u001b[0;34m)\u001b[0m\u001b[0;34m)\u001b[0m\u001b[0;34m[\u001b[0m\u001b[0;36m0\u001b[0m\u001b[0;34m]\u001b[0m \u001b[0;32mfor\u001b[0m \u001b[0mext\u001b[0m \u001b[0;32min\u001b[0m \u001b[0;34m[\u001b[0m\u001b[0;34m'pth'\u001b[0m\u001b[0;34m,\u001b[0m \u001b[0;34m'pkl'\u001b[0m\u001b[0;34m]\u001b[0m\u001b[0;34m]\u001b[0m\u001b[0;34m\u001b[0m\u001b[0;34m\u001b[0m\u001b[0m\n\u001b[1;32m    208\u001b[0m             \u001b[0;32mexcept\u001b[0m \u001b[0mIndexError\u001b[0m\u001b[0;34m:\u001b[0m \u001b[0mprint\u001b[0m\u001b[0;34m(\u001b[0m\u001b[0;34mf'The model in {model_path} is incomplete, download again'\u001b[0m\u001b[0;34m)\u001b[0m\u001b[0;34m;\u001b[0m \u001b[0;32mraise\u001b[0m\u001b[0;34m\u001b[0m\u001b[0;34m\u001b[0m\u001b[0m\n\u001b[0;32m--> 209\u001b[0;31m         \u001b[0mlearn\u001b[0m \u001b[0;34m=\u001b[0m \u001b[0mlearn\u001b[0m\u001b[0;34m.\u001b[0m\u001b[0mload_pretrained\u001b[0m\u001b[0;34m(\u001b[0m\u001b[0;34m*\u001b[0m\u001b[0mfnames\u001b[0m\u001b[0;34m)\u001b[0m\u001b[0;34m\u001b[0m\u001b[0;34m\u001b[0m\u001b[0m\n\u001b[0m\u001b[1;32m    210\u001b[0m     \u001b[0;32mreturn\u001b[0m \u001b[0mlearn\u001b[0m\u001b[0;34m\u001b[0m\u001b[0;34m\u001b[0m\u001b[0m\n\u001b[1;32m    211\u001b[0m \u001b[0;34m\u001b[0m\u001b[0m\n",
      "\u001b[0;32m~/PycharmProjects/fastaiWelshLM/welshai/lib/python3.7/site-packages/fastai/text/learner.py\u001b[0m in \u001b[0;36mload_pretrained\u001b[0;34m(self, wgts_fname, vocab_fname, model)\u001b[0m\n\u001b[1;32m    109\u001b[0m     \u001b[0;32mdef\u001b[0m \u001b[0mload_pretrained\u001b[0m\u001b[0;34m(\u001b[0m\u001b[0mself\u001b[0m\u001b[0;34m,\u001b[0m \u001b[0mwgts_fname\u001b[0m\u001b[0;34m,\u001b[0m \u001b[0mvocab_fname\u001b[0m\u001b[0;34m,\u001b[0m \u001b[0mmodel\u001b[0m\u001b[0;34m=\u001b[0m\u001b[0;32mNone\u001b[0m\u001b[0;34m)\u001b[0m\u001b[0;34m:\u001b[0m\u001b[0;34m\u001b[0m\u001b[0;34m\u001b[0m\u001b[0m\n\u001b[1;32m    110\u001b[0m         \u001b[0;34m\"Load a pretrained model and adapt it to the data vocabulary.\"\u001b[0m\u001b[0;34m\u001b[0m\u001b[0;34m\u001b[0m\u001b[0m\n\u001b[0;32m--> 111\u001b[0;31m         \u001b[0mold_vocab\u001b[0m \u001b[0;34m=\u001b[0m \u001b[0mload_pickle\u001b[0m\u001b[0;34m(\u001b[0m\u001b[0mvocab_fname\u001b[0m\u001b[0;34m)\u001b[0m\u001b[0;34m\u001b[0m\u001b[0;34m\u001b[0m\u001b[0m\n\u001b[0m\u001b[1;32m    112\u001b[0m         \u001b[0mnew_vocab\u001b[0m \u001b[0;34m=\u001b[0m \u001b[0m_get_text_vocab\u001b[0m\u001b[0;34m(\u001b[0m\u001b[0mself\u001b[0m\u001b[0;34m.\u001b[0m\u001b[0mdls\u001b[0m\u001b[0;34m)\u001b[0m\u001b[0;34m\u001b[0m\u001b[0;34m\u001b[0m\u001b[0m\n\u001b[1;32m    113\u001b[0m         \u001b[0mdistrib_barrier\u001b[0m\u001b[0;34m(\u001b[0m\u001b[0;34m)\u001b[0m\u001b[0;34m\u001b[0m\u001b[0;34m\u001b[0m\u001b[0m\n",
      "\u001b[0;32m~/PycharmProjects/fastaiWelshLM/welshai/lib/python3.7/site-packages/fastcore/xtras.py\u001b[0m in \u001b[0;36mload_pickle\u001b[0;34m(fn)\u001b[0m\n\u001b[1;32m    151\u001b[0m \u001b[0;32mdef\u001b[0m \u001b[0mload_pickle\u001b[0m\u001b[0;34m(\u001b[0m\u001b[0mfn\u001b[0m\u001b[0;34m)\u001b[0m\u001b[0;34m:\u001b[0m\u001b[0;34m\u001b[0m\u001b[0;34m\u001b[0m\u001b[0m\n\u001b[1;32m    152\u001b[0m     \u001b[0;34m\"Load a pickle file from a file name or opened file\"\u001b[0m\u001b[0;34m\u001b[0m\u001b[0;34m\u001b[0m\u001b[0m\n\u001b[0;32m--> 153\u001b[0;31m     \u001b[0;32mwith\u001b[0m \u001b[0mopen_file\u001b[0m\u001b[0;34m(\u001b[0m\u001b[0mfn\u001b[0m\u001b[0;34m,\u001b[0m \u001b[0;34m'rb'\u001b[0m\u001b[0;34m)\u001b[0m \u001b[0;32mas\u001b[0m \u001b[0mf\u001b[0m\u001b[0;34m:\u001b[0m \u001b[0;32mreturn\u001b[0m \u001b[0mpickle\u001b[0m\u001b[0;34m.\u001b[0m\u001b[0mload\u001b[0m\u001b[0;34m(\u001b[0m\u001b[0mf\u001b[0m\u001b[0;34m)\u001b[0m\u001b[0;34m\u001b[0m\u001b[0;34m\u001b[0m\u001b[0m\n\u001b[0m\u001b[1;32m    154\u001b[0m \u001b[0;34m\u001b[0m\u001b[0m\n\u001b[1;32m    155\u001b[0m \u001b[0;31m# Cell\u001b[0m\u001b[0;34m\u001b[0m\u001b[0;34m\u001b[0m\u001b[0;34m\u001b[0m\u001b[0m\n",
      "\u001b[0;32m~/PycharmProjects/fastaiWelshLM/welshai/lib/python3.7/site-packages/fastcore/xtras.py\u001b[0m in \u001b[0;36mopen_file\u001b[0;34m(fn, mode, **kwargs)\u001b[0m\n\u001b[1;32m    141\u001b[0m     \u001b[0;32melif\u001b[0m \u001b[0mfn\u001b[0m\u001b[0;34m.\u001b[0m\u001b[0msuffix\u001b[0m\u001b[0;34m==\u001b[0m\u001b[0;34m'.gz'\u001b[0m \u001b[0;34m:\u001b[0m \u001b[0;32mreturn\u001b[0m \u001b[0mgzip\u001b[0m\u001b[0;34m.\u001b[0m\u001b[0mGzipFile\u001b[0m\u001b[0;34m(\u001b[0m\u001b[0mfn\u001b[0m\u001b[0;34m,\u001b[0m \u001b[0mmode\u001b[0m\u001b[0;34m,\u001b[0m \u001b[0;34m**\u001b[0m\u001b[0mkwargs\u001b[0m\u001b[0;34m)\u001b[0m\u001b[0;34m\u001b[0m\u001b[0;34m\u001b[0m\u001b[0m\n\u001b[1;32m    142\u001b[0m     \u001b[0;32melif\u001b[0m \u001b[0mfn\u001b[0m\u001b[0;34m.\u001b[0m\u001b[0msuffix\u001b[0m\u001b[0;34m==\u001b[0m\u001b[0;34m'.zip'\u001b[0m\u001b[0;34m:\u001b[0m \u001b[0;32mreturn\u001b[0m \u001b[0mzipfile\u001b[0m\u001b[0;34m.\u001b[0m\u001b[0mZipFile\u001b[0m\u001b[0;34m(\u001b[0m\u001b[0mfn\u001b[0m\u001b[0;34m,\u001b[0m \u001b[0mmode\u001b[0m\u001b[0;34m,\u001b[0m \u001b[0;34m**\u001b[0m\u001b[0mkwargs\u001b[0m\u001b[0;34m)\u001b[0m\u001b[0;34m\u001b[0m\u001b[0;34m\u001b[0m\u001b[0m\n\u001b[0;32m--> 143\u001b[0;31m     \u001b[0;32melse\u001b[0m\u001b[0;34m:\u001b[0m \u001b[0;32mreturn\u001b[0m \u001b[0mopen\u001b[0m\u001b[0;34m(\u001b[0m\u001b[0mfn\u001b[0m\u001b[0;34m,\u001b[0m\u001b[0mmode\u001b[0m\u001b[0;34m,\u001b[0m \u001b[0;34m**\u001b[0m\u001b[0mkwargs\u001b[0m\u001b[0;34m)\u001b[0m\u001b[0;34m\u001b[0m\u001b[0;34m\u001b[0m\u001b[0m\n\u001b[0m\u001b[1;32m    144\u001b[0m \u001b[0;34m\u001b[0m\u001b[0m\n\u001b[1;32m    145\u001b[0m \u001b[0;31m# Cell\u001b[0m\u001b[0;34m\u001b[0m\u001b[0;34m\u001b[0m\u001b[0;34m\u001b[0m\u001b[0m\n",
      "\u001b[0;31mFileNotFoundError\u001b[0m: [Errno 2] No such file or directory: 'models/y.pkl'"
     ]
    }
   ],
   "source": [
    "learn = language_model_learner(text_data, AWD_LSTM, drop_mult=0.5,path='',pretrained_fnames='cy_wt')"
   ]
  },
  {
   "cell_type": "code",
   "execution_count": 69,
   "metadata": {
    "ExecuteTime": {
     "end_time": "2020-11-12T18:32:37.640012Z",
     "start_time": "2020-11-12T18:32:37.636016Z"
    }
   },
   "outputs": [],
   "source": [
    "bs = 64\n",
    "lr = 1e-2\n",
    "lr *= bs/48"
   ]
  },
  {
   "cell_type": "code",
   "execution_count": 6,
   "metadata": {
    "ExecuteTime": {
     "end_time": "2020-11-13T19:19:11.068164Z",
     "start_time": "2020-11-13T19:19:11.062621Z"
    }
   },
   "outputs": [
    {
     "data": {
      "text/plain": [
       "(#4) [Path('model/welshlm.pkl'),Path('model/cy_wt.pth'),Path('model/cy_wt_vocab.pkl.pth'),Path('model/welshlm10epoch.pth')]"
      ]
     },
     "execution_count": 6,
     "metadata": {},
     "output_type": "execute_result"
    }
   ],
   "source": [
    "path = Path()\n",
    "(path/'model').ls()"
   ]
  },
  {
   "cell_type": "code",
   "execution_count": 9,
   "metadata": {
    "ExecuteTime": {
     "end_time": "2020-11-13T21:01:21.928052Z",
     "start_time": "2020-11-13T21:01:21.857981Z"
    }
   },
   "outputs": [],
   "source": [
    "load_learner??"
   ]
  },
  {
   "cell_type": "code",
   "execution_count": 16,
   "metadata": {
    "ExecuteTime": {
     "end_time": "2020-11-13T21:14:13.662195Z",
     "start_time": "2020-11-13T21:14:13.608398Z"
    }
   },
   "outputs": [
    {
     "ename": "ValueError",
     "evalue": "unsupported pickle protocol: 5",
     "output_type": "error",
     "traceback": [
      "\u001b[0;31m---------------------------------------------------------------------------\u001b[0m",
      "\u001b[0;31mValueError\u001b[0m                                Traceback (most recent call last)",
      "\u001b[0;32m<ipython-input-16-3862b5bf2d7e>\u001b[0m in \u001b[0;36m<module>\u001b[0;34m\u001b[0m\n\u001b[0;32m----> 1\u001b[0;31m \u001b[0mlearn_inf\u001b[0m \u001b[0;34m=\u001b[0m \u001b[0mload_learner\u001b[0m\u001b[0;34m(\u001b[0m\u001b[0;34m'model/export_p2.pkl'\u001b[0m\u001b[0;34m)\u001b[0m\u001b[0;34m\u001b[0m\u001b[0;34m\u001b[0m\u001b[0m\n\u001b[0m",
      "\u001b[0;32m~/PycharmProjects/fastaiWelshLM/welshai/lib/python3.7/site-packages/fastai/learner.py\u001b[0m in \u001b[0;36mload_learner\u001b[0;34m(fname, cpu)\u001b[0m\n\u001b[1;32m    549\u001b[0m     \u001b[0;34m\"Load a `Learner` object in `fname`, optionally putting it on the `cpu`\"\u001b[0m\u001b[0;34m\u001b[0m\u001b[0;34m\u001b[0m\u001b[0m\n\u001b[1;32m    550\u001b[0m     \u001b[0mdistrib_barrier\u001b[0m\u001b[0;34m(\u001b[0m\u001b[0;34m)\u001b[0m\u001b[0;34m\u001b[0m\u001b[0;34m\u001b[0m\u001b[0m\n\u001b[0;32m--> 551\u001b[0;31m     \u001b[0mres\u001b[0m \u001b[0;34m=\u001b[0m \u001b[0mtorch\u001b[0m\u001b[0;34m.\u001b[0m\u001b[0mload\u001b[0m\u001b[0;34m(\u001b[0m\u001b[0mfname\u001b[0m\u001b[0;34m,\u001b[0m \u001b[0mmap_location\u001b[0m\u001b[0;34m=\u001b[0m\u001b[0;34m'cpu'\u001b[0m \u001b[0;32mif\u001b[0m \u001b[0mcpu\u001b[0m \u001b[0;32melse\u001b[0m \u001b[0;32mNone\u001b[0m\u001b[0;34m)\u001b[0m\u001b[0;34m\u001b[0m\u001b[0;34m\u001b[0m\u001b[0m\n\u001b[0m\u001b[1;32m    552\u001b[0m     \u001b[0;32mif\u001b[0m \u001b[0mhasattr\u001b[0m\u001b[0;34m(\u001b[0m\u001b[0mres\u001b[0m\u001b[0;34m,\u001b[0m \u001b[0;34m'to_fp32'\u001b[0m\u001b[0;34m)\u001b[0m\u001b[0;34m:\u001b[0m \u001b[0mres\u001b[0m \u001b[0;34m=\u001b[0m \u001b[0mres\u001b[0m\u001b[0;34m.\u001b[0m\u001b[0mto_fp32\u001b[0m\u001b[0;34m(\u001b[0m\u001b[0;34m)\u001b[0m\u001b[0;34m\u001b[0m\u001b[0;34m\u001b[0m\u001b[0m\n\u001b[1;32m    553\u001b[0m     \u001b[0;32mif\u001b[0m \u001b[0mcpu\u001b[0m\u001b[0;34m:\u001b[0m \u001b[0mres\u001b[0m\u001b[0;34m.\u001b[0m\u001b[0mdls\u001b[0m\u001b[0;34m.\u001b[0m\u001b[0mcpu\u001b[0m\u001b[0;34m(\u001b[0m\u001b[0;34m)\u001b[0m\u001b[0;34m\u001b[0m\u001b[0;34m\u001b[0m\u001b[0m\n",
      "\u001b[0;32m~/PycharmProjects/fastaiWelshLM/welshai/lib/python3.7/site-packages/torch/serialization.py\u001b[0m in \u001b[0;36mload\u001b[0;34m(f, map_location, pickle_module, **pickle_load_args)\u001b[0m\n\u001b[1;32m    592\u001b[0m                     \u001b[0mopened_file\u001b[0m\u001b[0;34m.\u001b[0m\u001b[0mseek\u001b[0m\u001b[0;34m(\u001b[0m\u001b[0morig_position\u001b[0m\u001b[0;34m)\u001b[0m\u001b[0;34m\u001b[0m\u001b[0;34m\u001b[0m\u001b[0m\n\u001b[1;32m    593\u001b[0m                     \u001b[0;32mreturn\u001b[0m \u001b[0mtorch\u001b[0m\u001b[0;34m.\u001b[0m\u001b[0mjit\u001b[0m\u001b[0;34m.\u001b[0m\u001b[0mload\u001b[0m\u001b[0;34m(\u001b[0m\u001b[0mopened_file\u001b[0m\u001b[0;34m)\u001b[0m\u001b[0;34m\u001b[0m\u001b[0;34m\u001b[0m\u001b[0m\n\u001b[0;32m--> 594\u001b[0;31m                 \u001b[0;32mreturn\u001b[0m \u001b[0m_load\u001b[0m\u001b[0;34m(\u001b[0m\u001b[0mopened_zipfile\u001b[0m\u001b[0;34m,\u001b[0m \u001b[0mmap_location\u001b[0m\u001b[0;34m,\u001b[0m \u001b[0mpickle_module\u001b[0m\u001b[0;34m,\u001b[0m \u001b[0;34m**\u001b[0m\u001b[0mpickle_load_args\u001b[0m\u001b[0;34m)\u001b[0m\u001b[0;34m\u001b[0m\u001b[0;34m\u001b[0m\u001b[0m\n\u001b[0m\u001b[1;32m    595\u001b[0m         \u001b[0;32mreturn\u001b[0m \u001b[0m_legacy_load\u001b[0m\u001b[0;34m(\u001b[0m\u001b[0mopened_file\u001b[0m\u001b[0;34m,\u001b[0m \u001b[0mmap_location\u001b[0m\u001b[0;34m,\u001b[0m \u001b[0mpickle_module\u001b[0m\u001b[0;34m,\u001b[0m \u001b[0;34m**\u001b[0m\u001b[0mpickle_load_args\u001b[0m\u001b[0;34m)\u001b[0m\u001b[0;34m\u001b[0m\u001b[0;34m\u001b[0m\u001b[0m\n\u001b[1;32m    596\u001b[0m \u001b[0;34m\u001b[0m\u001b[0m\n",
      "\u001b[0;32m~/PycharmProjects/fastaiWelshLM/welshai/lib/python3.7/site-packages/torch/serialization.py\u001b[0m in \u001b[0;36m_load\u001b[0;34m(zip_file, map_location, pickle_module, pickle_file, **pickle_load_args)\u001b[0m\n\u001b[1;32m    851\u001b[0m     \u001b[0munpickler\u001b[0m \u001b[0;34m=\u001b[0m \u001b[0mpickle_module\u001b[0m\u001b[0;34m.\u001b[0m\u001b[0mUnpickler\u001b[0m\u001b[0;34m(\u001b[0m\u001b[0mdata_file\u001b[0m\u001b[0;34m,\u001b[0m \u001b[0;34m**\u001b[0m\u001b[0mpickle_load_args\u001b[0m\u001b[0;34m)\u001b[0m\u001b[0;34m\u001b[0m\u001b[0;34m\u001b[0m\u001b[0m\n\u001b[1;32m    852\u001b[0m     \u001b[0munpickler\u001b[0m\u001b[0;34m.\u001b[0m\u001b[0mpersistent_load\u001b[0m \u001b[0;34m=\u001b[0m \u001b[0mpersistent_load\u001b[0m\u001b[0;34m\u001b[0m\u001b[0;34m\u001b[0m\u001b[0m\n\u001b[0;32m--> 853\u001b[0;31m     \u001b[0mresult\u001b[0m \u001b[0;34m=\u001b[0m \u001b[0munpickler\u001b[0m\u001b[0;34m.\u001b[0m\u001b[0mload\u001b[0m\u001b[0;34m(\u001b[0m\u001b[0;34m)\u001b[0m\u001b[0;34m\u001b[0m\u001b[0;34m\u001b[0m\u001b[0m\n\u001b[0m\u001b[1;32m    854\u001b[0m \u001b[0;34m\u001b[0m\u001b[0m\n\u001b[1;32m    855\u001b[0m     \u001b[0mtorch\u001b[0m\u001b[0;34m.\u001b[0m\u001b[0m_utils\u001b[0m\u001b[0;34m.\u001b[0m\u001b[0m_validate_loaded_sparse_tensors\u001b[0m\u001b[0;34m(\u001b[0m\u001b[0;34m)\u001b[0m\u001b[0;34m\u001b[0m\u001b[0;34m\u001b[0m\u001b[0m\n",
      "\u001b[0;32mvocab.pyx\u001b[0m in \u001b[0;36mspacy.vocab.unpickle_vocab\u001b[0;34m()\u001b[0m\n",
      "\u001b[0;32m~/PycharmProjects/fastaiWelshLM/welshai/lib/python3.7/site-packages/srsly/_pickle_api.py\u001b[0m in \u001b[0;36mpickle_loads\u001b[0;34m(data)\u001b[0m\n\u001b[1;32m     21\u001b[0m     \u001b[0mRETURNS\u001b[0m\u001b[0;34m:\u001b[0m \u001b[0mThe\u001b[0m \u001b[0mdeserialized\u001b[0m \u001b[0mPython\u001b[0m \u001b[0mobject\u001b[0m\u001b[0;34m.\u001b[0m\u001b[0;34m\u001b[0m\u001b[0;34m\u001b[0m\u001b[0m\n\u001b[1;32m     22\u001b[0m     \"\"\"\n\u001b[0;32m---> 23\u001b[0;31m     \u001b[0;32mreturn\u001b[0m \u001b[0mcloudpickle\u001b[0m\u001b[0;34m.\u001b[0m\u001b[0mloads\u001b[0m\u001b[0;34m(\u001b[0m\u001b[0mdata\u001b[0m\u001b[0;34m)\u001b[0m\u001b[0;34m\u001b[0m\u001b[0;34m\u001b[0m\u001b[0m\n\u001b[0m",
      "\u001b[0;31mValueError\u001b[0m: unsupported pickle protocol: 5"
     ]
    }
   ],
   "source": [
    "learn_inf = load_learner('model/export_p2.pkl')"
   ]
  },
  {
   "cell_type": "code",
   "execution_count": 21,
   "metadata": {
    "ExecuteTime": {
     "end_time": "2020-11-13T21:15:06.740675Z",
     "start_time": "2020-11-13T21:15:06.738209Z"
    }
   },
   "outputs": [],
   "source": [
    "# learn_inf = load('model/welshlm10epoch.pth')"
   ]
  }
 ],
 "metadata": {
  "kernelspec": {
   "display_name": "Python 3",
   "language": "python",
   "name": "python3"
  },
  "language_info": {
   "codemirror_mode": {
    "name": "ipython",
    "version": 3
   },
   "file_extension": ".py",
   "mimetype": "text/x-python",
   "name": "python",
   "nbconvert_exporter": "python",
   "pygments_lexer": "ipython3",
   "version": "3.9.1"
  },
  "toc": {
   "base_numbering": 1,
   "nav_menu": {
    "height": "286px",
    "width": "240px"
   },
   "number_sections": true,
   "sideBar": true,
   "skip_h1_title": false,
   "title_cell": "Table of Contents",
   "title_sidebar": "Contents",
   "toc_cell": false,
   "toc_position": {},
   "toc_section_display": true,
   "toc_window_display": false
  },
  "varInspector": {
   "cols": {
    "lenName": 16,
    "lenType": 16,
    "lenVar": 40
   },
   "kernels_config": {
    "python": {
     "delete_cmd_postfix": "",
     "delete_cmd_prefix": "del ",
     "library": "var_list.py",
     "varRefreshCmd": "print(var_dic_list())"
    },
    "r": {
     "delete_cmd_postfix": ") ",
     "delete_cmd_prefix": "rm(",
     "library": "var_list.r",
     "varRefreshCmd": "cat(var_dic_list()) "
    }
   },
   "types_to_exclude": [
    "module",
    "function",
    "builtin_function_or_method",
    "instance",
    "_Feature"
   ],
   "window_display": false
  }
 },
 "nbformat": 4,
 "nbformat_minor": 4
}
